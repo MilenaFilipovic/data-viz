{
 "cells": [
  {
   "cell_type": "code",
   "execution_count": 48,
   "metadata": {
    "collapsed": true
   },
   "outputs": [],
   "source": [
    "import pandas as pd\n",
    "from sys import getsizeof\n",
    "import numpy as np"
   ]
  },
  {
   "cell_type": "code",
   "execution_count": 155,
   "metadata": {
    "collapsed": true
   },
   "outputs": [],
   "source": [
    "path_files = ['../data/data_2017-09-1_2017-09-1.csv', \n",
    "              '../data/data_2017-09-2_2017-09-2.csv',\n",
    "              '../data/data_2017-10-1_2017-10-1.csv',\n",
    "              '../data/data_2017-10-2_2017-10-2.csv',\n",
    "              '../data/data_2017-10-3_2017-10-3.csv',\n",
    "              '../data/data_2017-10-4_2017-10-4.csv']\n",
    "cols = ['payload.pull_request.base.repo.language', 'actor.id', 'created_at']"
   ]
  },
  {
   "cell_type": "code",
   "execution_count": 82,
   "metadata": {},
   "outputs": [],
   "source": [
    "df = pd.DataFrame()\n",
    "for p in path_files:\n",
    "    df = pd.concat([df, pd.read_csv(p)[cols]])"
   ]
  },
  {
   "cell_type": "code",
   "execution_count": 83,
   "metadata": {},
   "outputs": [],
   "source": [
    "langues = df['payload.pull_request.base.repo.language'].unique()\n",
    "# langues = langues[0:10]"
   ]
  },
  {
   "cell_type": "code",
   "execution_count": 80,
   "metadata": {
    "collapsed": true,
    "scrolled": false
   },
   "outputs": [],
   "source": [
    "d = np.zeros((len(langues), len(langues)))\n",
    "\n",
    "for i, l1 in enumerate(langues):\n",
    "    for j, l2 in enumerate(langues):\n",
    "        unique_actors_l1 = set(df[\n",
    "            df['payload.pull_request.base.repo.language']==l1]\n",
    "                            ['actor.id'])\n",
    "        unique_actors_l2 = set(df[\n",
    "            df['payload.pull_request.base.repo.language']==l2]\n",
    "                            ['actor.id'])\n",
    "        \n",
    "        d[i, j] = (len(unique_actors_l1.intersection(unique_actors_l2)) / len(unique_actors_l2))"
   ]
  },
  {
   "cell_type": "code",
   "execution_count": 81,
   "metadata": {
    "collapsed": true
   },
   "outputs": [],
   "source": [
    "network = pd.DataFrame(d, columns=langues, index=langues)"
   ]
  },
  {
   "cell_type": "code",
   "execution_count": 82,
   "metadata": {},
   "outputs": [
    {
     "data": {
      "text/plain": [
       "JavaScript    1.000000\n",
       "HTML          0.034687\n",
       "CSS           0.020539\n",
       "Python        0.019283\n",
       "Java          0.012780\n",
       "Name: JavaScript, dtype: float64"
      ]
     },
     "execution_count": 82,
     "metadata": {},
     "output_type": "execute_result"
    }
   ],
   "source": [
    "network['JavaScript'].sort_values(ascending=False).head()"
   ]
  },
  {
   "cell_type": "code",
   "execution_count": 83,
   "metadata": {},
   "outputs": [
    {
     "data": {
      "text/plain": [
       "Python        1.000000\n",
       "JavaScript    0.034788\n",
       "HTML          0.023466\n",
       "Shell         0.020379\n",
       "C++           0.016879\n",
       "Name: Python, dtype: float64"
      ]
     },
     "execution_count": 83,
     "metadata": {},
     "output_type": "execute_result"
    }
   ],
   "source": [
    "network['Python'].sort_values(ascending=False).head()"
   ]
  },
  {
   "cell_type": "code",
   "execution_count": 84,
   "metadata": {},
   "outputs": [
    {
     "data": {
      "text/plain": [
       "Java          1.000000\n",
       "JavaScript    0.027119\n",
       "HTML          0.015738\n",
       "Python        0.015254\n",
       "Shell         0.011380\n",
       "Name: Java, dtype: float64"
      ]
     },
     "execution_count": 84,
     "metadata": {},
     "output_type": "execute_result"
    }
   ],
   "source": [
    "network['Java'].sort_values(ascending=False).head()"
   ]
  },
  {
   "cell_type": "code",
   "execution_count": 85,
   "metadata": {},
   "outputs": [
    {
     "data": {
      "text/plain": [
       "Go            1.000000\n",
       "JavaScript    0.034789\n",
       "Python        0.032568\n",
       "Shell         0.029608\n",
       "Java          0.020725\n",
       "Name: Go, dtype: float64"
      ]
     },
     "execution_count": 85,
     "metadata": {},
     "output_type": "execute_result"
    }
   ],
   "source": [
    "network['Go'].sort_values(ascending=False).head()"
   ]
  },
  {
   "cell_type": "code",
   "execution_count": 86,
   "metadata": {},
   "outputs": [
    {
     "data": {
      "text/plain": [
       "Scala         1.000000\n",
       "JavaScript    0.030588\n",
       "Java          0.030588\n",
       "Python        0.018824\n",
       "CSS           0.016471\n",
       "Name: Scala, dtype: float64"
      ]
     },
     "execution_count": 86,
     "metadata": {},
     "output_type": "execute_result"
    }
   ],
   "source": [
    "network['Scala'].sort_values(ascending=False).head()"
   ]
  },
  {
   "cell_type": "code",
   "execution_count": 87,
   "metadata": {},
   "outputs": [
    {
     "data": {
      "text/plain": [
       "Elixir    1.000000\n",
       "Ruby      0.027027\n",
       "HTML      0.020270\n",
       "CSS       0.020270\n",
       "Shell     0.020270\n",
       "Name: Elixir, dtype: float64"
      ]
     },
     "execution_count": 87,
     "metadata": {},
     "output_type": "execute_result"
    }
   ],
   "source": [
    "network['Elixir'].sort_values(ascending=False).head()"
   ]
  },
  {
   "cell_type": "code",
   "execution_count": 21,
   "metadata": {},
   "outputs": [
    {
     "ename": "ModuleNotFoundError",
     "evalue": "No module named 'graph_tool'",
     "output_type": "error",
     "traceback": [
      "\u001b[0;31m---------------------------------------------------------------------------\u001b[0m",
      "\u001b[0;31mModuleNotFoundError\u001b[0m                       Traceback (most recent call last)",
      "\u001b[0;32m<ipython-input-21-8cf026c95734>\u001b[0m in \u001b[0;36m<module>\u001b[0;34m()\u001b[0m\n\u001b[0;32m----> 1\u001b[0;31m \u001b[0;32mfrom\u001b[0m \u001b[0mgraph_tool\u001b[0m\u001b[0;34m.\u001b[0m\u001b[0mall\u001b[0m \u001b[0;32mimport\u001b[0m \u001b[0;34m*\u001b[0m\u001b[0;34m\u001b[0m\u001b[0m\n\u001b[0m",
      "\u001b[0;31mModuleNotFoundError\u001b[0m: No module named 'graph_tool'"
     ]
    }
   ],
   "source": [
    "from graph_tool.all import *"
   ]
  },
  {
   "cell_type": "code",
   "execution_count": null,
   "metadata": {
    "collapsed": true
   },
   "outputs": [],
   "source": [
    "df['payload.pull_request.base.repo.language'].unique()"
   ]
  },
  {
   "cell_type": "code",
   "execution_count": 10,
   "metadata": {},
   "outputs": [
    {
     "ename": "AttributeError",
     "evalue": "'DataFrameGroupBy' object has no attribute 'unique'",
     "output_type": "error",
     "traceback": [
      "\u001b[0;31m---------------------------------------------------------------------------\u001b[0m",
      "\u001b[0;31mAttributeError\u001b[0m                            Traceback (most recent call last)",
      "\u001b[0;32m<ipython-input-10-f3e6e140c47b>\u001b[0m in \u001b[0;36m<module>\u001b[0;34m()\u001b[0m\n\u001b[0;32m----> 1\u001b[0;31m \u001b[0mdf\u001b[0m\u001b[0;34m.\u001b[0m\u001b[0mgroupby\u001b[0m\u001b[0;34m(\u001b[0m\u001b[0;34m'payload.pull_request.base.repo.language'\u001b[0m\u001b[0;34m)\u001b[0m\u001b[0;34m.\u001b[0m\u001b[0munique\u001b[0m\u001b[0;34m(\u001b[0m\u001b[0;34m)\u001b[0m\u001b[0;34m[\u001b[0m\u001b[0;34m'actor.id'\u001b[0m\u001b[0;34m]\u001b[0m\u001b[0;34m\u001b[0m\u001b[0m\n\u001b[0m",
      "\u001b[0;32m/usr/local/lib/python3.6/site-packages/pandas/core/groupby.py\u001b[0m in \u001b[0;36m__getattr__\u001b[0;34m(self, attr)\u001b[0m\n\u001b[1;32m    549\u001b[0m \u001b[0;34m\u001b[0m\u001b[0m\n\u001b[1;32m    550\u001b[0m         raise AttributeError(\"%r object has no attribute %r\" %\n\u001b[0;32m--> 551\u001b[0;31m                              (type(self).__name__, attr))\n\u001b[0m\u001b[1;32m    552\u001b[0m \u001b[0;34m\u001b[0m\u001b[0m\n\u001b[1;32m    553\u001b[0m     \u001b[0mplot\u001b[0m \u001b[0;34m=\u001b[0m \u001b[0mproperty\u001b[0m\u001b[0;34m(\u001b[0m\u001b[0mGroupByPlot\u001b[0m\u001b[0;34m)\u001b[0m\u001b[0;34m\u001b[0m\u001b[0m\n",
      "\u001b[0;31mAttributeError\u001b[0m: 'DataFrameGroupBy' object has no attribute 'unique'"
     ]
    }
   ],
   "source": [
    "df.groupby('payload.pull_request.base.repo.language')"
   ]
  },
  {
   "cell_type": "code",
   "execution_count": 11,
   "metadata": {
    "collapsed": true
   },
   "outputs": [],
   "source": [
    "import networkx as nx\n",
    "import matplotlib.pyplot as plt\n",
    "%matplotlib inline"
   ]
  },
  {
   "cell_type": "code",
   "execution_count": null,
   "metadata": {
    "collapsed": true
   },
   "outputs": [],
   "source": []
  },
  {
   "cell_type": "code",
   "execution_count": 12,
   "metadata": {
    "collapsed": true
   },
   "outputs": [],
   "source": [
    "g = nx.Graph()"
   ]
  },
  {
   "cell_type": "code",
   "execution_count": 16,
   "metadata": {},
   "outputs": [],
   "source": [
    "g.add_node('Scala')\n",
    "g.add_nodes_from(range(1,10))"
   ]
  },
  {
   "cell_type": "code",
   "execution_count": 17,
   "metadata": {},
   "outputs": [
    {
     "data": {
      "text/plain": [
       "{}"
      ]
     },
     "execution_count": 17,
     "metadata": {},
     "output_type": "execute_result"
    }
   ],
   "source": [
    "g.graph"
   ]
  },
  {
   "cell_type": "code",
   "execution_count": 27,
   "metadata": {},
   "outputs": [
    {
     "name": "stdout",
     "output_type": "stream",
     "text": [
      "6.37 ms ± 239 µs per loop (mean ± std. dev. of 7 runs, 100 loops each)\n",
      "6.57 ms ± 801 µs per loop (mean ± std. dev. of 7 runs, 100 loops each)\n",
      "6.52 ms ± 384 µs per loop (mean ± std. dev. of 7 runs, 100 loops each)\n"
     ]
    }
   ],
   "source": [
    "import timeit\n",
    "\n",
    "%timeit df[df['payload.pull_request.base.repo.language']=='Scala']\n",
    "%timeit df[df['payload.pull_request.base.repo.language']=='Scala']['actor.id'].unique()"
   ]
  },
  {
   "cell_type": "code",
   "execution_count": 30,
   "metadata": {},
   "outputs": [],
   "source": [
    "df = df.set_index('payload.pull_request.base.repo.language')"
   ]
  },
  {
   "cell_type": "code",
   "execution_count": 33,
   "metadata": {},
   "outputs": [
    {
     "name": "stdout",
     "output_type": "stream",
     "text": [
      "1.38 ms ± 49.7 µs per loop (mean ± std. dev. of 7 runs, 1000 loops each)\n"
     ]
    }
   ],
   "source": [
    "%timeit df.loc['Scala']"
   ]
  },
  {
   "cell_type": "code",
   "execution_count": null,
   "metadata": {
    "collapsed": true
   },
   "outputs": [],
   "source": [
    "%timeit df[df['payload.pull_request.base.repo.language']=='Scala']"
   ]
  },
  {
   "cell_type": "code",
   "execution_count": null,
   "metadata": {
    "collapsed": true
   },
   "outputs": [],
   "source": [
    "d = np.zeros((len(langues), len(langues)))\n",
    "\n",
    "for i, l1 in enumerate(langues):\n",
    "    for j, l2 in enumerate(langues):\n",
    "        unique_actors_l1 = set(df[\n",
    "            df['payload.pull_request.base.repo.language']==l1]\n",
    "                            ['actor.id'])\n",
    "        unique_actors_l2 = set(df[\n",
    "            df['payload.pull_request.base.repo.language']==l2]\n",
    "                            ['actor.id'])\n",
    "        \n",
    "        d[i, j] = (len(unique_actors_l1.intersection(unique_actors_l2)) / len(unique_actors_l2))"
   ]
  },
  {
   "cell_type": "code",
   "execution_count": 18,
   "metadata": {},
   "outputs": [
    {
     "data": {
      "image/png": "[encoded data removed]",
      "text/plain": [
       "<matplotlib.figure.Figure at 0x11473e278>"
      ]
     },
     "metadata": {},
     "output_type": "display_data"
    }
   ],
   "source": [
    "df = pd.DataFrame({ 'from':['A', 'B', 'C','A'], 'to':['D', 'A', 'E','C']})\n",
    "df\n",
    " \n",
    "# Build your graph\n",
    "G=nx.from_pandas_dataframe(df, 'from', 'to')\n",
    " \n",
    "# Plot it\n",
    "nx.draw(G, with_labels=True)\n",
    "plt.show()\n"
   ]
  },
  {
   "cell_type": "code",
   "execution_count": 118,
   "metadata": {
    "collapsed": true
   },
   "outputs": [],
   "source": [
    "from itertools import combinations"
   ]
  },
  {
   "cell_type": "code",
   "execution_count": 156,
   "metadata": {
    "collapsed": true
   },
   "outputs": [],
   "source": [
    "path_files = ['../data/data_2017-09-1_2017-09-1.csv', \n",
    "              '../data/data_2017-09-2_2017-09-2.csv',\n",
    "              '../data/data_2017-10-1_2017-10-1.csv',\n",
    "              '../data/data_2017-10-2_2017-10-2.csv',\n",
    "              '../data/data_2017-10-3_2017-10-3.csv',\n",
    "              '../data/data_2017-10-4_2017-10-4.csv']"
   ]
  },
  {
   "cell_type": "code",
   "execution_count": 157,
   "metadata": {
    "collapsed": true
   },
   "outputs": [],
   "source": [
    "df = pd.DataFrame()\n",
    "for p in path_files:\n",
    "    df = pd.concat([df, pd.read_csv(p)[cols]])"
   ]
  },
  {
   "cell_type": "code",
   "execution_count": 134,
   "metadata": {
    "scrolled": false
   },
   "outputs": [],
   "source": [
    "comb = list(combinations(langues, r=2)) + list(zip(langues, langues))\n",
    "counts = df['payload.pull_request.base.repo.language'].value_counts()\n",
    "langues = list(counts[counts > 10].index)\n",
    "df = df.set_index('payload.pull_request.base.repo.language')\n",
    "\n",
    "common = []\n",
    "\n",
    "for i, (l1, l2) in enumerate(comb):\n",
    "    unique_actors_l1 = pd.Series(df.loc[l1]['actor.id']).unique()\n",
    "    unique_actors_l2 = pd.Series(df.loc[l2]['actor.id']).unique()\n",
    "    same_actors = len(set(unique_actors_l1) & set(unique_actors_l2))\n",
    "    common.append((l1, l2, same_actors))\n",
    "network = pd.DataFrame(common, columns=['language1', 'language2', 'common_actors'])"
   ]
  },
  {
   "cell_type": "code",
   "execution_count": 136,
   "metadata": {},
   "outputs": [
    {
     "data": {
      "image/png": "[encoded data removed]",
      "text/plain": [
       "<matplotlib.figure.Figure at 0x12081a7b8>"
      ]
     },
     "metadata": {},
     "output_type": "display_data"
    }
   ],
   "source": [
    "# Build your graph\n",
    "G=nx.from_pandas_dataframe(network, 'language1', 'language2', 'common_actors')\n",
    " \n",
    "# Plot it\n",
    "nx.draw(G, with_labels=True)\n",
    "plt.show()"
   ]
  },
  {
   "cell_type": "code",
   "execution_count": 129,
   "metadata": {},
   "outputs": [
    {
     "data": {
      "text/plain": [
       "NodeView(('JavaScript', 'Python', 'Java', 'HTML', 'Ruby', 'PHP', 'C++', 'C#', 'Go', 'TypeScript', 'CSS', 'C', 'Shell', 'Swift', 'Scala', 'PowerShell', 'Rust', 'Objective-C', 'Jupyter Notebook', 'DM', 'Lua', 'Kotlin', 'R', 'Elixir', 'Perl', 'Makefile', 'Vue', 'Haskell', 'Groovy', 'Julia', 'Clojure', 'CoffeeScript', 'TeX', 'OCaml', 'Dart', 'CMake', 'Nix', 'HCL', 'Vim script', 'XSLT', 'Arduino', 'Matlab', 'Smarty', 'Emacs Lisp', 'F#', 'Erlang', 'Puppet', 'Fortran', 'Visual Basic', 'PLpgSQL', 'SaltStack', 'Assembly', 'Roff', 'Gherkin', 'Crystal', 'Tcl', 'Pascal', 'Haxe', 'D', 'Modelica', 'Elm', 'ColdFusion', 'Batchfile', 'Vala', 'FreeMarker', 'PureScript', 'Common Lisp', 'MAXScript', 'SQF', 'PLSQL', 'Smalltalk', 'Protocol Buffer', 'Apex', 'Perl 6', 'Mathematica', 'QML', 'ApacheConf', 'BitBake', 'Web Ontology Language', 'Liquid', 'Chapel', 'Eagle', 'Racket', 'ASP', 'nesC', 'Prolog', 'Processing', 'Verilog', 'GAP', 'Nim', 'Nginx', 'Standard ML', 'PostScript', 'AutoHotkey', 'SMT', 'M4', 'Gosu', 'SystemVerilog', 'EmberScript', 'VimL', 'RAML', 'SQLPL', 'Logos', 'AppleScript', 'Objective-C++', 'Gnuplot', 'WebAssembly', 'VHDL', 'Inform 7', 'GLSL', 'Scheme', 'ABAP', 'SourcePawn', 'Cuda', 'Hack', 'ActionScript', 'Yacc', 'API Blueprint', 'OpenEdge ABL', \"Ren'Py\", 'P4'))"
      ]
     },
     "execution_count": 129,
     "metadata": {},
     "output_type": "execute_result"
    }
   ],
   "source": [
    "G.node"
   ]
  },
  {
   "cell_type": "code",
   "execution_count": 149,
   "metadata": {},
   "outputs": [],
   "source": [
    "x = '2017-08-08'"
   ]
  },
  {
   "cell_type": "code",
   "execution_count": 150,
   "metadata": {},
   "outputs": [
    {
     "data": {
      "text/plain": [
       "'2017-08-8'"
      ]
     },
     "execution_count": 150,
     "metadata": {},
     "output_type": "execute_result"
    }
   ],
   "source": [
    "'-'.join(x.split('-')[0:-1] + [('-' + x.split('-')[-1]).replace('-0', '')])"
   ]
  },
  {
   "cell_type": "code",
   "execution_count": null,
   "metadata": {
    "collapsed": true
   },
   "outputs": [],
   "source": [
    "x.split('-')[-1]"
   ]
  },
  {
   "cell_type": "code",
   "execution_count": 158,
   "metadata": {},
   "outputs": [],
   "source": [
    "df['cohort'] = pd.to_datetime(df['created_at']).apply(lambda x: x.strftime('%Y-%m'))"
   ]
  },
  {
   "cell_type": "code",
   "execution_count": 159,
   "metadata": {},
   "outputs": [
    {
     "data": {
      "text/plain": [
       "array(['2017-09', '2017-10'], dtype=object)"
      ]
     },
     "execution_count": 159,
     "metadata": {},
     "output_type": "execute_result"
    }
   ],
   "source": [
    "df['cohort'].unique()"
   ]
  },
  {
   "cell_type": "code",
   "execution_count": 161,
   "metadata": {},
   "outputs": [],
   "source": [
    "counts = df['payload.pull_request.base.repo.language'].value_counts()"
   ]
  },
  {
   "cell_type": "code",
   "execution_count": 165,
   "metadata": {},
   "outputs": [
    {
     "data": {
      "text/plain": [
       "Index(['JavaScript', 'Python', 'Java', 'HTML', 'Ruby', 'PHP', 'C++', 'C#',\n",
       "       'Go', 'TypeScript', 'CSS', 'C', 'Shell', 'Swift', 'Scala', 'PowerShell',\n",
       "       'Rust', 'Objective-C', 'Jupyter Notebook', 'DM'],\n",
       "      dtype='object')"
      ]
     },
     "execution_count": 165,
     "metadata": {},
     "output_type": "execute_result"
    }
   ],
   "source": [
    "counts.iloc[0:20].index"
   ]
  },
  {
   "cell_type": "code",
   "execution_count": 167,
   "metadata": {},
   "outputs": [
    {
     "data": {
      "text/html": [
       "<div>\n",
       "<style>\n",
       "    .dataframe thead tr:only-child th {\n",
       "        text-align: right;\n",
       "    }\n",
       "\n",
       "    .dataframe thead th {\n",
       "        text-align: left;\n",
       "    }\n",
       "\n",
       "    .dataframe tbody tr th {\n",
       "        vertical-align: top;\n",
       "    }\n",
       "</style>\n",
       "<table border=\"1\" class=\"dataframe\">\n",
       "  <thead>\n",
       "    <tr style=\"text-align: right;\">\n",
       "      <th></th>\n",
       "      <th>payload.pull_request.base.repo.language</th>\n",
       "      <th>actor.id</th>\n",
       "      <th>created_at</th>\n",
       "      <th>cohort</th>\n",
       "    </tr>\n",
       "  </thead>\n",
       "  <tbody>\n",
       "    <tr>\n",
       "      <th>0</th>\n",
       "      <td>PHP</td>\n",
       "      <td>8322674</td>\n",
       "      <td>2017-09-01T00:00:09Z</td>\n",
       "      <td>2017-09</td>\n",
       "    </tr>\n",
       "    <tr>\n",
       "      <th>1</th>\n",
       "      <td>Shell</td>\n",
       "      <td>22301063</td>\n",
       "      <td>2017-09-01T00:00:16Z</td>\n",
       "      <td>2017-09</td>\n",
       "    </tr>\n",
       "    <tr>\n",
       "      <th>2</th>\n",
       "      <td>C#</td>\n",
       "      <td>13976695</td>\n",
       "      <td>2017-09-01T00:00:18Z</td>\n",
       "      <td>2017-09</td>\n",
       "    </tr>\n",
       "    <tr>\n",
       "      <th>3</th>\n",
       "      <td>Rust</td>\n",
       "      <td>967877</td>\n",
       "      <td>2017-09-01T00:00:19Z</td>\n",
       "      <td>2017-09</td>\n",
       "    </tr>\n",
       "    <tr>\n",
       "      <th>4</th>\n",
       "      <td>JavaScript</td>\n",
       "      <td>29139614</td>\n",
       "      <td>2017-09-01T00:00:23Z</td>\n",
       "      <td>2017-09</td>\n",
       "    </tr>\n",
       "    <tr>\n",
       "      <th>5</th>\n",
       "      <td>C#</td>\n",
       "      <td>27025973</td>\n",
       "      <td>2017-09-01T00:00:24Z</td>\n",
       "      <td>2017-09</td>\n",
       "    </tr>\n",
       "    <tr>\n",
       "      <th>6</th>\n",
       "      <td>Rust</td>\n",
       "      <td>378677</td>\n",
       "      <td>2017-09-01T00:00:28Z</td>\n",
       "      <td>2017-09</td>\n",
       "    </tr>\n",
       "    <tr>\n",
       "      <th>7</th>\n",
       "      <td>Ruby</td>\n",
       "      <td>6148072</td>\n",
       "      <td>2017-09-01T00:00:31Z</td>\n",
       "      <td>2017-09</td>\n",
       "    </tr>\n",
       "    <tr>\n",
       "      <th>9</th>\n",
       "      <td>HTML</td>\n",
       "      <td>28666458</td>\n",
       "      <td>2017-09-01T00:00:49Z</td>\n",
       "      <td>2017-09</td>\n",
       "    </tr>\n",
       "    <tr>\n",
       "      <th>11</th>\n",
       "      <td>Java</td>\n",
       "      <td>726145</td>\n",
       "      <td>2017-09-01T00:00:50Z</td>\n",
       "      <td>2017-09</td>\n",
       "    </tr>\n",
       "    <tr>\n",
       "      <th>12</th>\n",
       "      <td>HTML</td>\n",
       "      <td>17394667</td>\n",
       "      <td>2017-09-01T00:00:56Z</td>\n",
       "      <td>2017-09</td>\n",
       "    </tr>\n",
       "    <tr>\n",
       "      <th>14</th>\n",
       "      <td>Python</td>\n",
       "      <td>199813</td>\n",
       "      <td>2017-09-01T00:01:07Z</td>\n",
       "      <td>2017-09</td>\n",
       "    </tr>\n",
       "    <tr>\n",
       "      <th>15</th>\n",
       "      <td>Go</td>\n",
       "      <td>5714066</td>\n",
       "      <td>2017-09-01T00:01:12Z</td>\n",
       "      <td>2017-09</td>\n",
       "    </tr>\n",
       "    <tr>\n",
       "      <th>16</th>\n",
       "      <td>Go</td>\n",
       "      <td>68232</td>\n",
       "      <td>2017-09-01T00:01:15Z</td>\n",
       "      <td>2017-09</td>\n",
       "    </tr>\n",
       "    <tr>\n",
       "      <th>17</th>\n",
       "      <td>JavaScript</td>\n",
       "      <td>7861465</td>\n",
       "      <td>2017-09-01T00:01:35Z</td>\n",
       "      <td>2017-09</td>\n",
       "    </tr>\n",
       "    <tr>\n",
       "      <th>18</th>\n",
       "      <td>Python</td>\n",
       "      <td>13564</td>\n",
       "      <td>2017-09-01T00:01:38Z</td>\n",
       "      <td>2017-09</td>\n",
       "    </tr>\n",
       "    <tr>\n",
       "      <th>19</th>\n",
       "      <td>C#</td>\n",
       "      <td>22423285</td>\n",
       "      <td>2017-09-01T00:01:42Z</td>\n",
       "      <td>2017-09</td>\n",
       "    </tr>\n",
       "    <tr>\n",
       "      <th>20</th>\n",
       "      <td>HTML</td>\n",
       "      <td>739696</td>\n",
       "      <td>2017-09-01T00:01:44Z</td>\n",
       "      <td>2017-09</td>\n",
       "    </tr>\n",
       "    <tr>\n",
       "      <th>21</th>\n",
       "      <td>JavaScript</td>\n",
       "      <td>13858498</td>\n",
       "      <td>2017-09-01T00:01:47Z</td>\n",
       "      <td>2017-09</td>\n",
       "    </tr>\n",
       "    <tr>\n",
       "      <th>22</th>\n",
       "      <td>PowerShell</td>\n",
       "      <td>26447601</td>\n",
       "      <td>2017-09-01T00:01:52Z</td>\n",
       "      <td>2017-09</td>\n",
       "    </tr>\n",
       "    <tr>\n",
       "      <th>23</th>\n",
       "      <td>JavaScript</td>\n",
       "      <td>479816</td>\n",
       "      <td>2017-09-01T00:01:53Z</td>\n",
       "      <td>2017-09</td>\n",
       "    </tr>\n",
       "    <tr>\n",
       "      <th>24</th>\n",
       "      <td>Go</td>\n",
       "      <td>2653109</td>\n",
       "      <td>2017-09-01T00:02:04Z</td>\n",
       "      <td>2017-09</td>\n",
       "    </tr>\n",
       "    <tr>\n",
       "      <th>25</th>\n",
       "      <td>C</td>\n",
       "      <td>10601296</td>\n",
       "      <td>2017-09-01T00:02:05Z</td>\n",
       "      <td>2017-09</td>\n",
       "    </tr>\n",
       "    <tr>\n",
       "      <th>26</th>\n",
       "      <td>C#</td>\n",
       "      <td>75470</td>\n",
       "      <td>2017-09-01T00:02:12Z</td>\n",
       "      <td>2017-09</td>\n",
       "    </tr>\n",
       "    <tr>\n",
       "      <th>27</th>\n",
       "      <td>JavaScript</td>\n",
       "      <td>12554659</td>\n",
       "      <td>2017-09-01T00:02:15Z</td>\n",
       "      <td>2017-09</td>\n",
       "    </tr>\n",
       "    <tr>\n",
       "      <th>28</th>\n",
       "      <td>Java</td>\n",
       "      <td>9141606</td>\n",
       "      <td>2017-09-01T00:02:30Z</td>\n",
       "      <td>2017-09</td>\n",
       "    </tr>\n",
       "    <tr>\n",
       "      <th>29</th>\n",
       "      <td>C++</td>\n",
       "      <td>25273194</td>\n",
       "      <td>2017-09-01T00:02:31Z</td>\n",
       "      <td>2017-09</td>\n",
       "    </tr>\n",
       "    <tr>\n",
       "      <th>30</th>\n",
       "      <td>CSS</td>\n",
       "      <td>12805267</td>\n",
       "      <td>2017-09-01T00:02:32Z</td>\n",
       "      <td>2017-09</td>\n",
       "    </tr>\n",
       "    <tr>\n",
       "      <th>31</th>\n",
       "      <td>C</td>\n",
       "      <td>14157143</td>\n",
       "      <td>2017-09-01T00:02:33Z</td>\n",
       "      <td>2017-09</td>\n",
       "    </tr>\n",
       "    <tr>\n",
       "      <th>32</th>\n",
       "      <td>Python</td>\n",
       "      <td>3764194</td>\n",
       "      <td>2017-09-01T00:02:38Z</td>\n",
       "      <td>2017-09</td>\n",
       "    </tr>\n",
       "    <tr>\n",
       "      <th>...</th>\n",
       "      <td>...</td>\n",
       "      <td>...</td>\n",
       "      <td>...</td>\n",
       "      <td>...</td>\n",
       "    </tr>\n",
       "    <tr>\n",
       "      <th>35672</th>\n",
       "      <td>HTML</td>\n",
       "      <td>111161</td>\n",
       "      <td>2017-10-04T23:58:10Z</td>\n",
       "      <td>2017-10</td>\n",
       "    </tr>\n",
       "    <tr>\n",
       "      <th>35673</th>\n",
       "      <td>JavaScript</td>\n",
       "      <td>6981253</td>\n",
       "      <td>2017-10-04T23:58:13Z</td>\n",
       "      <td>2017-10</td>\n",
       "    </tr>\n",
       "    <tr>\n",
       "      <th>35674</th>\n",
       "      <td>Python</td>\n",
       "      <td>29445311</td>\n",
       "      <td>2017-10-04T23:58:27Z</td>\n",
       "      <td>2017-10</td>\n",
       "    </tr>\n",
       "    <tr>\n",
       "      <th>35676</th>\n",
       "      <td>C#</td>\n",
       "      <td>201340</td>\n",
       "      <td>2017-10-04T23:58:32Z</td>\n",
       "      <td>2017-10</td>\n",
       "    </tr>\n",
       "    <tr>\n",
       "      <th>35677</th>\n",
       "      <td>JavaScript</td>\n",
       "      <td>15906960</td>\n",
       "      <td>2017-10-04T23:58:38Z</td>\n",
       "      <td>2017-10</td>\n",
       "    </tr>\n",
       "    <tr>\n",
       "      <th>35678</th>\n",
       "      <td>C#</td>\n",
       "      <td>6464209</td>\n",
       "      <td>2017-10-04T23:58:40Z</td>\n",
       "      <td>2017-10</td>\n",
       "    </tr>\n",
       "    <tr>\n",
       "      <th>35679</th>\n",
       "      <td>CSS</td>\n",
       "      <td>12089030</td>\n",
       "      <td>2017-10-04T23:58:42Z</td>\n",
       "      <td>2017-10</td>\n",
       "    </tr>\n",
       "    <tr>\n",
       "      <th>35680</th>\n",
       "      <td>HTML</td>\n",
       "      <td>31521558</td>\n",
       "      <td>2017-10-04T23:58:44Z</td>\n",
       "      <td>2017-10</td>\n",
       "    </tr>\n",
       "    <tr>\n",
       "      <th>35681</th>\n",
       "      <td>Python</td>\n",
       "      <td>5588272</td>\n",
       "      <td>2017-10-04T23:58:45Z</td>\n",
       "      <td>2017-10</td>\n",
       "    </tr>\n",
       "    <tr>\n",
       "      <th>35682</th>\n",
       "      <td>Python</td>\n",
       "      <td>19499729</td>\n",
       "      <td>2017-10-04T23:58:47Z</td>\n",
       "      <td>2017-10</td>\n",
       "    </tr>\n",
       "    <tr>\n",
       "      <th>35683</th>\n",
       "      <td>Ruby</td>\n",
       "      <td>7661200</td>\n",
       "      <td>2017-10-04T23:59:07Z</td>\n",
       "      <td>2017-10</td>\n",
       "    </tr>\n",
       "    <tr>\n",
       "      <th>35684</th>\n",
       "      <td>HTML</td>\n",
       "      <td>20913348</td>\n",
       "      <td>2017-10-04T23:59:08Z</td>\n",
       "      <td>2017-10</td>\n",
       "    </tr>\n",
       "    <tr>\n",
       "      <th>35685</th>\n",
       "      <td>HTML</td>\n",
       "      <td>7349681</td>\n",
       "      <td>2017-10-04T23:59:09Z</td>\n",
       "      <td>2017-10</td>\n",
       "    </tr>\n",
       "    <tr>\n",
       "      <th>35686</th>\n",
       "      <td>Ruby</td>\n",
       "      <td>12693984</td>\n",
       "      <td>2017-10-04T23:59:11Z</td>\n",
       "      <td>2017-10</td>\n",
       "    </tr>\n",
       "    <tr>\n",
       "      <th>35687</th>\n",
       "      <td>Python</td>\n",
       "      <td>11997716</td>\n",
       "      <td>2017-10-04T23:59:12Z</td>\n",
       "      <td>2017-10</td>\n",
       "    </tr>\n",
       "    <tr>\n",
       "      <th>35688</th>\n",
       "      <td>C#</td>\n",
       "      <td>1579269</td>\n",
       "      <td>2017-10-04T23:59:12Z</td>\n",
       "      <td>2017-10</td>\n",
       "    </tr>\n",
       "    <tr>\n",
       "      <th>35689</th>\n",
       "      <td>HTML</td>\n",
       "      <td>37345</td>\n",
       "      <td>2017-10-04T23:59:12Z</td>\n",
       "      <td>2017-10</td>\n",
       "    </tr>\n",
       "    <tr>\n",
       "      <th>35690</th>\n",
       "      <td>Java</td>\n",
       "      <td>21369890</td>\n",
       "      <td>2017-10-04T23:59:14Z</td>\n",
       "      <td>2017-10</td>\n",
       "    </tr>\n",
       "    <tr>\n",
       "      <th>35691</th>\n",
       "      <td>PHP</td>\n",
       "      <td>20297030</td>\n",
       "      <td>2017-10-04T23:59:17Z</td>\n",
       "      <td>2017-10</td>\n",
       "    </tr>\n",
       "    <tr>\n",
       "      <th>35692</th>\n",
       "      <td>JavaScript</td>\n",
       "      <td>11764794</td>\n",
       "      <td>2017-10-04T23:59:26Z</td>\n",
       "      <td>2017-10</td>\n",
       "    </tr>\n",
       "    <tr>\n",
       "      <th>35693</th>\n",
       "      <td>Ruby</td>\n",
       "      <td>10997212</td>\n",
       "      <td>2017-10-04T23:59:29Z</td>\n",
       "      <td>2017-10</td>\n",
       "    </tr>\n",
       "    <tr>\n",
       "      <th>35694</th>\n",
       "      <td>JavaScript</td>\n",
       "      <td>32303833</td>\n",
       "      <td>2017-10-04T23:59:31Z</td>\n",
       "      <td>2017-10</td>\n",
       "    </tr>\n",
       "    <tr>\n",
       "      <th>35695</th>\n",
       "      <td>TypeScript</td>\n",
       "      <td>2515062</td>\n",
       "      <td>2017-10-04T23:59:33Z</td>\n",
       "      <td>2017-10</td>\n",
       "    </tr>\n",
       "    <tr>\n",
       "      <th>35696</th>\n",
       "      <td>JavaScript</td>\n",
       "      <td>6930486</td>\n",
       "      <td>2017-10-04T23:59:33Z</td>\n",
       "      <td>2017-10</td>\n",
       "    </tr>\n",
       "    <tr>\n",
       "      <th>35697</th>\n",
       "      <td>HTML</td>\n",
       "      <td>13792782</td>\n",
       "      <td>2017-10-04T23:59:37Z</td>\n",
       "      <td>2017-10</td>\n",
       "    </tr>\n",
       "    <tr>\n",
       "      <th>35698</th>\n",
       "      <td>Ruby</td>\n",
       "      <td>2546850</td>\n",
       "      <td>2017-10-04T23:59:39Z</td>\n",
       "      <td>2017-10</td>\n",
       "    </tr>\n",
       "    <tr>\n",
       "      <th>35700</th>\n",
       "      <td>JavaScript</td>\n",
       "      <td>23174736</td>\n",
       "      <td>2017-10-04T23:59:45Z</td>\n",
       "      <td>2017-10</td>\n",
       "    </tr>\n",
       "    <tr>\n",
       "      <th>35701</th>\n",
       "      <td>C++</td>\n",
       "      <td>15566</td>\n",
       "      <td>2017-10-04T23:59:50Z</td>\n",
       "      <td>2017-10</td>\n",
       "    </tr>\n",
       "    <tr>\n",
       "      <th>35702</th>\n",
       "      <td>Java</td>\n",
       "      <td>1444301</td>\n",
       "      <td>2017-10-04T23:59:52Z</td>\n",
       "      <td>2017-10</td>\n",
       "    </tr>\n",
       "    <tr>\n",
       "      <th>35704</th>\n",
       "      <td>Python</td>\n",
       "      <td>112729</td>\n",
       "      <td>2017-10-04T23:59:56Z</td>\n",
       "      <td>2017-10</td>\n",
       "    </tr>\n",
       "  </tbody>\n",
       "</table>\n",
       "<p>148945 rows × 4 columns</p>\n",
       "</div>"
      ],
      "text/plain": [
       "      payload.pull_request.base.repo.language  actor.id            created_at  \\\n",
       "0                                         PHP   8322674  2017-09-01T00:00:09Z   \n",
       "1                                       Shell  22301063  2017-09-01T00:00:16Z   \n",
       "2                                          C#  13976695  2017-09-01T00:00:18Z   \n",
       "3                                        Rust    967877  2017-09-01T00:00:19Z   \n",
       "4                                  JavaScript  29139614  2017-09-01T00:00:23Z   \n",
       "5                                          C#  27025973  2017-09-01T00:00:24Z   \n",
       "6                                        Rust    378677  2017-09-01T00:00:28Z   \n",
       "7                                        Ruby   6148072  2017-09-01T00:00:31Z   \n",
       "9                                        HTML  28666458  2017-09-01T00:00:49Z   \n",
       "11                                       Java    726145  2017-09-01T00:00:50Z   \n",
       "12                                       HTML  17394667  2017-09-01T00:00:56Z   \n",
       "14                                     Python    199813  2017-09-01T00:01:07Z   \n",
       "15                                         Go   5714066  2017-09-01T00:01:12Z   \n",
       "16                                         Go     68232  2017-09-01T00:01:15Z   \n",
       "17                                 JavaScript   7861465  2017-09-01T00:01:35Z   \n",
       "18                                     Python     13564  2017-09-01T00:01:38Z   \n",
       "19                                         C#  22423285  2017-09-01T00:01:42Z   \n",
       "20                                       HTML    739696  2017-09-01T00:01:44Z   \n",
       "21                                 JavaScript  13858498  2017-09-01T00:01:47Z   \n",
       "22                                 PowerShell  26447601  2017-09-01T00:01:52Z   \n",
       "23                                 JavaScript    479816  2017-09-01T00:01:53Z   \n",
       "24                                         Go   2653109  2017-09-01T00:02:04Z   \n",
       "25                                          C  10601296  2017-09-01T00:02:05Z   \n",
       "26                                         C#     75470  2017-09-01T00:02:12Z   \n",
       "27                                 JavaScript  12554659  2017-09-01T00:02:15Z   \n",
       "28                                       Java   9141606  2017-09-01T00:02:30Z   \n",
       "29                                        C++  25273194  2017-09-01T00:02:31Z   \n",
       "30                                        CSS  12805267  2017-09-01T00:02:32Z   \n",
       "31                                          C  14157143  2017-09-01T00:02:33Z   \n",
       "32                                     Python   3764194  2017-09-01T00:02:38Z   \n",
       "...                                       ...       ...                   ...   \n",
       "35672                                    HTML    111161  2017-10-04T23:58:10Z   \n",
       "35673                              JavaScript   6981253  2017-10-04T23:58:13Z   \n",
       "35674                                  Python  29445311  2017-10-04T23:58:27Z   \n",
       "35676                                      C#    201340  2017-10-04T23:58:32Z   \n",
       "35677                              JavaScript  15906960  2017-10-04T23:58:38Z   \n",
       "35678                                      C#   6464209  2017-10-04T23:58:40Z   \n",
       "35679                                     CSS  12089030  2017-10-04T23:58:42Z   \n",
       "35680                                    HTML  31521558  2017-10-04T23:58:44Z   \n",
       "35681                                  Python   5588272  2017-10-04T23:58:45Z   \n",
       "35682                                  Python  19499729  2017-10-04T23:58:47Z   \n",
       "35683                                    Ruby   7661200  2017-10-04T23:59:07Z   \n",
       "35684                                    HTML  20913348  2017-10-04T23:59:08Z   \n",
       "35685                                    HTML   7349681  2017-10-04T23:59:09Z   \n",
       "35686                                    Ruby  12693984  2017-10-04T23:59:11Z   \n",
       "35687                                  Python  11997716  2017-10-04T23:59:12Z   \n",
       "35688                                      C#   1579269  2017-10-04T23:59:12Z   \n",
       "35689                                    HTML     37345  2017-10-04T23:59:12Z   \n",
       "35690                                    Java  21369890  2017-10-04T23:59:14Z   \n",
       "35691                                     PHP  20297030  2017-10-04T23:59:17Z   \n",
       "35692                              JavaScript  11764794  2017-10-04T23:59:26Z   \n",
       "35693                                    Ruby  10997212  2017-10-04T23:59:29Z   \n",
       "35694                              JavaScript  32303833  2017-10-04T23:59:31Z   \n",
       "35695                              TypeScript   2515062  2017-10-04T23:59:33Z   \n",
       "35696                              JavaScript   6930486  2017-10-04T23:59:33Z   \n",
       "35697                                    HTML  13792782  2017-10-04T23:59:37Z   \n",
       "35698                                    Ruby   2546850  2017-10-04T23:59:39Z   \n",
       "35700                              JavaScript  23174736  2017-10-04T23:59:45Z   \n",
       "35701                                     C++     15566  2017-10-04T23:59:50Z   \n",
       "35702                                    Java   1444301  2017-10-04T23:59:52Z   \n",
       "35704                                  Python    112729  2017-10-04T23:59:56Z   \n",
       "\n",
       "        cohort  \n",
       "0      2017-09  \n",
       "1      2017-09  \n",
       "2      2017-09  \n",
       "3      2017-09  \n",
       "4      2017-09  \n",
       "5      2017-09  \n",
       "6      2017-09  \n",
       "7      2017-09  \n",
       "9      2017-09  \n",
       "11     2017-09  \n",
       "12     2017-09  \n",
       "14     2017-09  \n",
       "15     2017-09  \n",
       "16     2017-09  \n",
       "17     2017-09  \n",
       "18     2017-09  \n",
       "19     2017-09  \n",
       "20     2017-09  \n",
       "21     2017-09  \n",
       "22     2017-09  \n",
       "23     2017-09  \n",
       "24     2017-09  \n",
       "25     2017-09  \n",
       "26     2017-09  \n",
       "27     2017-09  \n",
       "28     2017-09  \n",
       "29     2017-09  \n",
       "30     2017-09  \n",
       "31     2017-09  \n",
       "32     2017-09  \n",
       "...        ...  \n",
       "35672  2017-10  \n",
       "35673  2017-10  \n",
       "35674  2017-10  \n",
       "35676  2017-10  \n",
       "35677  2017-10  \n",
       "35678  2017-10  \n",
       "35679  2017-10  \n",
       "35680  2017-10  \n",
       "35681  2017-10  \n",
       "35682  2017-10  \n",
       "35683  2017-10  \n",
       "35684  2017-10  \n",
       "35685  2017-10  \n",
       "35686  2017-10  \n",
       "35687  2017-10  \n",
       "35688  2017-10  \n",
       "35689  2017-10  \n",
       "35690  2017-10  \n",
       "35691  2017-10  \n",
       "35692  2017-10  \n",
       "35693  2017-10  \n",
       "35694  2017-10  \n",
       "35695  2017-10  \n",
       "35696  2017-10  \n",
       "35697  2017-10  \n",
       "35698  2017-10  \n",
       "35700  2017-10  \n",
       "35701  2017-10  \n",
       "35702  2017-10  \n",
       "35704  2017-10  \n",
       "\n",
       "[148945 rows x 4 columns]"
      ]
     },
     "execution_count": 167,
     "metadata": {},
     "output_type": "execute_result"
    }
   ],
   "source": [
    "df[df['payload.pull_request.base.repo.language'].apply(lambda x: x in counts.iloc[0:20].index)]"
   ]
  },
  {
   "cell_type": "code",
   "execution_count": null,
   "metadata": {
    "collapsed": true
   },
   "outputs": [],
   "source": []
  }
 ],
 "metadata": {
  "kernelspec": {
   "display_name": "Python 3",
   "language": "python",
   "name": "python3"
  },
  "language_info": {
   "codemirror_mode": {
    "name": "ipython",
    "version": 3
   },
   "file_extension": ".py",
   "mimetype": "text/x-python",
   "name": "python",
   "nbconvert_exporter": "python",
   "pygments_lexer": "ipython3",
   "version": "3.6.3"
  }
 },
 "nbformat": 4,
 "nbformat_minor": 2
}
